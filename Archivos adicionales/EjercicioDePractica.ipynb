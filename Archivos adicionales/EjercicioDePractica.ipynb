{
  "nbformat": 4,
  "nbformat_minor": 0,
  "metadata": {
    "colab": {
      "provenance": []
    },
    "kernelspec": {
      "name": "python3",
      "display_name": "Python 3"
    },
    "language_info": {
      "name": "python"
    }
  },
  "cells": [
    {
      "cell_type": "code",
      "execution_count": 2,
      "metadata": {
        "colab": {
          "base_uri": "https://localhost:8080/",
          "height": 35
        },
        "id": "mruz0eELJiTW",
        "outputId": "f641d5eb-144e-4ba2-bcdd-81bea247d840"
      },
      "outputs": [
        {
          "output_type": "execute_result",
          "data": {
            "text/plain": [
              "'n'"
            ],
            "application/vnd.google.colaboratory.intrinsic+json": {
              "type": "string"
            }
          },
          "metadata": {},
          "execution_count": 2
        }
      ],
      "source": [
        "contenido=\"Que no bailaba no reía porque era triste y aburrida pero nadie sabe...\\n\"\n",
        "with open (\"miarchivo.txt\",'w') as archivo:\n",
        "  archivo.write(contenido)\n",
        "\n",
        "def agregar_linea(archivo,linea):\n",
        "  \"\"\"Agregar una línea al archivo pasado por párametro\"\"\"\n",
        "  with open(archivo, 'a') as archivo:\n",
        "    archivo.write(linea)\n",
        "\n",
        "agregar_linea(\"miarchivo.txt\",\"Que era cuartetera.\")\n",
        "\n",
        "def n_esimo_caracter(archivo, ubicacion):\n",
        "  \"\"\"Devuelve el n-esimo caracter de un archivo.\"\"\"\n",
        "  with open (archivo) as archivo:\n",
        "    archivo.seek(ubicacion-1)\n",
        "    caracter=archivo.read(1)\n",
        "    return caracter\n",
        "\n",
        "n_esimo_caracter(\"miarchivo.txt\", 5)"
      ]
    }
  ]
}